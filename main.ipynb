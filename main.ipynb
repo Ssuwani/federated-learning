{
 "cells": [
  {
   "cell_type": "code",
   "execution_count": 1,
   "id": "da35180d-5c57-431b-bd36-bf49b8ed1c3a",
   "metadata": {},
   "outputs": [],
   "source": [
    "import timm\n",
    "import torch\n",
    "import torch.nn as nn\n",
    "import torch.optim as optim\n",
    "from torch.optim import lr_scheduler\n",
    "\n",
    "\n",
    "from torchvision import transforms, datasets\n",
    "\n",
    "from timm.data import resolve_data_config\n",
    "from timm.data.transforms_factory import create_transform\n",
    "import time\n",
    "import copy"
   ]
  },
  {
   "cell_type": "code",
   "execution_count": 2,
   "id": "7f5abd50-fde3-431f-87c0-fed49a8af993",
   "metadata": {},
   "outputs": [],
   "source": [
    "model_base = timm.create_model('resnet18', pretrained=True, num_classes=2)\n",
    "model_alpha = timm.create_model('resnet18', pretrained=True, num_classes=2)\n",
    "model_beta = timm.create_model('resnet18', pretrained=True, num_classes=2)"
   ]
  },
  {
   "cell_type": "code",
   "execution_count": 3,
   "id": "6413742e-8ca7-4c7e-a92f-4f0c62990724",
   "metadata": {},
   "outputs": [
    {
     "name": "stderr",
     "output_type": "stream",
     "text": [
      "/Users/suwan/anaconda3/envs/pytorch/lib/python3.8/site-packages/torchvision/transforms/transforms.py:257: UserWarning: Argument interpolation should be of type InterpolationMode instead of int. Please, use InterpolationMode enum.\n",
      "  warnings.warn(\n"
     ]
    }
   ],
   "source": [
    "config = resolve_data_config({}, model=model_base)\n",
    "transform = create_transform(**config)"
   ]
  },
  {
   "cell_type": "code",
   "execution_count": 4,
   "id": "e156d33e-24b6-4e58-916a-dcd302d549da",
   "metadata": {},
   "outputs": [],
   "source": [
    "alpha_data_dir = './datasets/alpha/train/'\n",
    "beta_data_dir = './datasets/beta/train/'\n",
    "val_data_dir = './datasets/test/'\n",
    "alpha_datasets = {\n",
    "    \"train\": datasets.ImageFolder(alpha_data_dir, transform),\n",
    "    \"val\": datasets.ImageFolder(val_data_dir, transform)\n",
    "}\n",
    "beta_datasets = {\n",
    "    \"train\": datasets.ImageFolder(beta_data_dir, transform),\n",
    "    \"val\": datasets.ImageFolder(val_data_dir, transform)\n",
    "}\n",
    "alpha_data_sizes = {x: len(alpha_datasets[x]) for x in [\"train\", \"val\"]}\n",
    "beta_data_sizes = {x: len(beta_datasets[x]) for x in [\"train\", \"val\"]}\n",
    "\n",
    "class_names = alpha_datasets[\"train\"].classes\n",
    "alpha_data_loader = {x: torch.utils.data.DataLoader(alpha_datasets[x], shuffle=True, batch_size=4, num_workers=0) for x in ['train', 'val']}\n",
    "beta_data_loader = {x: torch.utils.data.DataLoader(beta_datasets[x], shuffle=True, batch_size=4, num_workers=0) for x in ['train', 'val']}"
   ]
  },
  {
   "cell_type": "code",
   "execution_count": 5,
   "id": "b3393f77-d024-429d-8111-6d9760f2aa39",
   "metadata": {},
   "outputs": [],
   "source": [
    "def train(model, criterion, optimizer, scheduler, num_epochs, data_loader, data_size, evaluate=False):\n",
    "    since = time.time()\n",
    "    \n",
    "    best_model = copy.deepcopy(model.state_dict())\n",
    "    best_acc = 0\n",
    "    \n",
    "    for epoch in range(num_epochs):\n",
    "        print(f\"Epoch : {epoch+1} / {num_epochs}\")\n",
    "        print(\"-\"*15)\n",
    "        \n",
    "        for phase in [\"train\", \"val\"]:\n",
    "            if phase == 'train':\n",
    "                # evaluate가 Ture면 Train은 건너뜀~\n",
    "                if evaluate:\n",
    "                    continue\n",
    "                model.train()\n",
    "            else:\n",
    "                model.eval()\n",
    "            \n",
    "            running_loss = 0.0\n",
    "            running_corrects = 0\n",
    "            \n",
    "            for inputs, labels in data_loader[phase]:\n",
    "                inputs = inputs.to(device)\n",
    "                labels = labels.to(device)\n",
    "                \n",
    "                optimizer.zero_grad()\n",
    "                \n",
    "                with torch.set_grad_enabled(phase=='train'):\n",
    "                    outputs = model(inputs)\n",
    "                    _, preds = torch.max(outputs, 1)\n",
    "                    loss = criterion(outputs, labels)\n",
    "                    \n",
    "                    if phase == 'train':\n",
    "                        loss.backward()\n",
    "                        optimizer.step()\n",
    "                running_loss += loss.item() * inputs.size(0)\n",
    "                running_corrects += torch.sum(preds == labels.data)\n",
    "            if phase == 'train':\n",
    "                scheduler.step()\n",
    "                \n",
    "            epoch_loss = running_loss / data_size[phase]\n",
    "            epoch_acc = running_corrects / data_size[phase]\n",
    "                \n",
    "            print(\"{} Loss : {:.4f} Acc : {:.4f}\".format(phase, epoch_loss, epoch_acc))\n",
    "\n",
    "            if phase == 'val' and epoch_acc > best_acc:\n",
    "                best_acc = epoch_acc\n",
    "                best_model = copy.deepcopy(model.state_dict())\n",
    "    time_elapsed = time.time() - since\n",
    "    print(\"Train Complete in {:.0f}m {:.4f}s\".format(time_elapsed // 60, time_elapsed % 60))\n",
    "    print(\"Best Acc : {:.4f}\".format(best_acc))\n",
    "    \n",
    "    model.load_state_dict(best_model)\n",
    "    return model"
   ]
  },
  {
   "cell_type": "code",
   "execution_count": 6,
   "id": "2d5de7e6-1230-434f-8428-dbe5f6b3310f",
   "metadata": {},
   "outputs": [],
   "source": [
    "device = 'cuda' if torch.cuda.is_available() else 'cpu'\n",
    "model_alpha = model_alpha.to(device)\n",
    "\n",
    "criterion_alpha = nn.CrossEntropyLoss()\n",
    "optimizer_alpha = optim.SGD(model_alpha.parameters(), lr=0.001, momentum=0.9)\n",
    "scheduler_alpha = lr_scheduler.StepLR(optimizer_alpha, step_size=7, gamma=0.1)\n",
    "\n",
    "model_beta = model_alpha.to(device)\n",
    "\n",
    "criterion_beta = nn.CrossEntropyLoss()\n",
    "optimizer_beta = optim.SGD(model_beta.parameters(), lr=0.001, momentum=0.9)\n",
    "scheduler_beta = lr_scheduler.StepLR(optimizer_beta, step_size=7, gamma=0.1)\n",
    "\n",
    "num_epochs=3"
   ]
  },
  {
   "cell_type": "code",
   "execution_count": 7,
   "id": "c7ef87ec-a4b3-4313-b3f5-6845cca899e6",
   "metadata": {},
   "outputs": [
    {
     "name": "stdout",
     "output_type": "stream",
     "text": [
      "Epoch : 1 / 3\n",
      "---------------\n",
      "train Loss : 0.3581 Acc : 0.8750\n",
      "val Loss : 0.3463 Acc : 0.8667\n",
      "Epoch : 2 / 3\n",
      "---------------\n",
      "train Loss : 0.1367 Acc : 0.9625\n",
      "val Loss : 0.3294 Acc : 0.8815\n",
      "Epoch : 3 / 3\n",
      "---------------\n",
      "train Loss : 0.0800 Acc : 0.9750\n",
      "val Loss : 0.1713 Acc : 0.9111\n",
      "Train Complete in 2m 9.0517s\n",
      "Best Acc : 0.9111\n"
     ]
    }
   ],
   "source": [
    "# Alpha 모델 학습\n",
    "model_alpha = train(model_alpha, criterion_alpha, optimizer_alpha, scheduler_alpha, num_epochs, alpha_data_loader, alpha_data_sizes)"
   ]
  },
  {
   "cell_type": "code",
   "execution_count": 8,
   "id": "c7f5f21d-6326-42d8-a5c3-0dc0c4330f14",
   "metadata": {},
   "outputs": [
    {
     "name": "stdout",
     "output_type": "stream",
     "text": [
      "Epoch : 1 / 3\n",
      "---------------\n",
      "train Loss : 0.6713 Acc : 0.8125\n",
      "val Loss : 0.7481 Acc : 0.6741\n",
      "Epoch : 2 / 3\n",
      "---------------\n",
      "train Loss : 0.1652 Acc : 0.9250\n",
      "val Loss : 0.0919 Acc : 0.9630\n",
      "Epoch : 3 / 3\n",
      "---------------\n",
      "train Loss : 0.0100 Acc : 1.0000\n",
      "val Loss : 0.3145 Acc : 0.8815\n",
      "Train Complete in 2m 8.9272s\n",
      "Best Acc : 0.9630\n"
     ]
    }
   ],
   "source": [
    "# Beta 모델 학습\n",
    "model_beta = train(model_beta, criterion_beta, optimizer_beta, scheduler_beta, num_epochs, beta_data_loader,beta_data_sizes)"
   ]
  },
  {
   "cell_type": "code",
   "execution_count": 9,
   "id": "89159a95-8457-4a39-b171-517e7fde5bdb",
   "metadata": {},
   "outputs": [],
   "source": [
    "model_base = model_base.to(device)\n",
    "\n",
    "criterion_base = nn.CrossEntropyLoss()\n",
    "optimizer_base = optim.SGD(model_base.parameters(), lr=0.001, momentum=0.9)\n",
    "scheduler_base = lr_scheduler.StepLR(optimizer_base, step_size=7, gamma=0.1)"
   ]
  },
  {
   "cell_type": "code",
   "execution_count": 10,
   "id": "22a2678d-b32a-4a69-bf20-8a7901f5966b",
   "metadata": {},
   "outputs": [
    {
     "name": "stdout",
     "output_type": "stream",
     "text": [
      "Epoch : 1 / 3\n",
      "---------------\n",
      "val Loss : 0.7009 Acc : 0.5407\n",
      "Epoch : 2 / 3\n",
      "---------------\n",
      "val Loss : 0.7009 Acc : 0.5407\n",
      "Epoch : 3 / 3\n",
      "---------------\n",
      "val Loss : 0.7009 Acc : 0.5407\n",
      "Train Complete in 0m 45.3903s\n",
      "Best Acc : 0.5407\n"
     ]
    }
   ],
   "source": [
    "# origin model\n",
    "model_base = train(model_base, criterion_base, optimizer_base, scheduler_base, num_epochs, alpha_data_loader,alpha_data_sizes, evaluate=True)"
   ]
  },
  {
   "cell_type": "code",
   "execution_count": 11,
   "id": "4d33c74e-12bf-481b-8f96-ba8d9d1204d4",
   "metadata": {},
   "outputs": [
    {
     "data": {
      "text/plain": [
       "<All keys matched successfully>"
      ]
     },
     "execution_count": 11,
     "metadata": {},
     "output_type": "execute_result"
    }
   ],
   "source": [
    "# Alpha와 Beta Weight 평균내기!\n",
    "sd_alpha = model_alpha.state_dict()\n",
    "sd_beta = model_beta.state_dict()\n",
    "sd_new = dict()\n",
    "for key in sd_alpha:\n",
    "    sd_new[key] = (sd_beta[key] + sd_alpha[key]) / 2.\n",
    "\n",
    "model_base.load_state_dict(sd_new)"
   ]
  },
  {
   "cell_type": "code",
   "execution_count": 12,
   "id": "04b1cbec-5ac2-49bb-b2a2-c59d910a2518",
   "metadata": {},
   "outputs": [
    {
     "name": "stdout",
     "output_type": "stream",
     "text": [
      "Epoch : 1 / 3\n",
      "---------------\n",
      "val Loss : 0.0919 Acc : 0.9630\n",
      "Epoch : 2 / 3\n",
      "---------------\n",
      "val Loss : 0.0919 Acc : 0.9630\n",
      "Epoch : 3 / 3\n",
      "---------------\n",
      "val Loss : 0.0919 Acc : 0.9630\n",
      "Train Complete in 0m 45.5853s\n",
      "Best Acc : 0.9630\n"
     ]
    }
   ],
   "source": [
    "# new_model\n",
    "model_base = train(model_base, criterion_base, optimizer_base, scheduler_base, num_epochs,alpha_data_loader, alpha_data_sizes, evaluate=True)"
   ]
  },
  {
   "cell_type": "code",
   "execution_count": null,
   "id": "15181a95-a2d4-4237-91a5-6d4255ed7191",
   "metadata": {},
   "outputs": [],
   "source": []
  }
 ],
 "metadata": {
  "kernelspec": {
   "display_name": "Python 3",
   "language": "python",
   "name": "python3"
  },
  "language_info": {
   "codemirror_mode": {
    "name": "ipython",
    "version": 3
   },
   "file_extension": ".py",
   "mimetype": "text/x-python",
   "name": "python",
   "nbconvert_exporter": "python",
   "pygments_lexer": "ipython3",
   "version": "3.8.8"
  }
 },
 "nbformat": 4,
 "nbformat_minor": 5
}
